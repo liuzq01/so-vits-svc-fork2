{
  "cells": [
    {
      "cell_type": "code",
      "execution_count": null,
      "metadata": {},
      "outputs": [],
      "source": [
        "# step1: Google Drive中有文件夹和文件：so-vits-svc-fork2/dataset/speaker.zip (speaker.zip: 都是 xxx.wav 文件，已切片）\n",
        "# step2: 点击右上角的 ▼ 按钮 --> 更改运行时类型 --> T4 GPU --> 保存\n",
        "# step3: 点击最上面👆的 代码执行程序 --> 全部运行"
      ]
    },
    {
      "cell_type": "code",
      "execution_count": null,
      "metadata": {
        "id": "VpSdBB-W884B"
      },
      "outputs": [],
      "source": [
        "#@title Check GPU\n",
        "!nvidia-smi"
      ]
    },
    {
      "cell_type": "code",
      "execution_count": null,
      "metadata": {
        "collapsed": true,
        "id": "8LQCfATv9ZDU"
      },
      "outputs": [],
      "source": [
        "from google.colab import drive\n",
        "drive.mount('/content/drive')"
      ]
    },
    {
      "cell_type": "code",
      "execution_count": null,
      "metadata": {
        "collapsed": true,
        "id": "qhvblGMl9fw1"
      },
      "outputs": [],
      "source": [
        "# 安装 micromamba\n",
        "!curl -L -o micromamba.tar.bz2 https://micromamba.snakepit.net/api/micromamba/linux-64/latest\n",
        "!tar -xvjf micromamba.tar.bz2 bin/micromamba\n",
        "!mkdir -p /content/micromamba/envs /content/micromamba/pkgs"
      ]
    },
    {
      "cell_type": "code",
      "execution_count": null,
      "metadata": {
        "collapsed": true,
        "id": "qQgCuBV99iu2"
      },
      "outputs": [],
      "source": [
        "# 在 Notebook 中设置 Matplotlib 后端为 agg\n",
        "%env MPLBACKEND=agg"
      ]
    },
    {
      "cell_type": "code",
      "execution_count": null,
      "metadata": {
        "collapsed": true,
        "id": "oM3vs9aA9nPE"
      },
      "outputs": [],
      "source": [
        "# 创建 Python3.11 环境并激活（名称为sovits）\n",
        "!./bin/micromamba create -y -p /content/micromamba/envs/sovits python=3.11 pip"
      ]
    },
    {
      "cell_type": "code",
      "execution_count": null,
      "metadata": {
        "collapsed": true,
        "id": "Oztk3VII9qIw"
      },
      "outputs": [],
      "source": [
        "!/content/micromamba/envs/sovits/bin/python --version"
      ]
    },
    {
      "cell_type": "code",
      "execution_count": null,
      "metadata": {
        "collapsed": true,
        "id": "VnVrvcse9vVC"
      },
      "outputs": [],
      "source": [
        "!/content/micromamba/envs/sovits/bin/python -m pip install -U pip setuptools wheel\n",
        "!/content/micromamba/envs/sovits/bin/pip install -U torch torchaudio --index-url https://download.pytorch.org/whl/cu121\n",
        "!/content/micromamba/envs/sovits/bin/pip install -U git+https://github.com/liuzq01/so-vits-svc-fork2.git"
      ]
    },
    {
      "cell_type": "code",
      "execution_count": null,
      "metadata": {},
      "outputs": [],
      "source": [
        "!/content/micromamba/envs/sovits/bin/svc --help"
      ]
    },
    {
      "cell_type": "code",
      "execution_count": null,
      "metadata": {
        "collapsed": true,
        "id": "iULFjVEGylZr"
      },
      "outputs": [],
      "source": [
        "!mkdir -p \"dataset_raw\"\n",
        "speaker = \"qian_interview\" #@param {type: \"string\"}\n",
        "# speaker.zip: 都是 xxx.wav 文件，已切片\n",
        "!unzip /content/drive/MyDrive/so-vits-svc-fork2/dataset/{speaker}.zip\n",
        "!cp -R /content/{speaker}/ -t \"dataset_raw/\""
      ]
    },
    {
      "cell_type": "code",
      "execution_count": null,
      "metadata": {
        "collapsed": true,
        "id": "Klz0GIzIWvLz"
      },
      "outputs": [],
      "source": [
        "!/content/micromamba/envs/sovits/bin/svc pre-resample"
      ]
    },
    {
      "cell_type": "code",
      "execution_count": null,
      "metadata": {
        "id": "ZpSCmfMFvgcT"
      },
      "outputs": [],
      "source": [
        "# 显示 0% ，实际已经执行完毕，不影响下面的pre-hubert和train\n",
        "!/content/micromamba/envs/sovits/bin/svc pre-config"
      ]
    },
    {
      "cell_type": "code",
      "execution_count": null,
      "metadata": {
        "id": "W27y6qhpXXlf"
      },
      "outputs": [],
      "source": [
        "# 先修改config.json -->  \"epochs: xxx\"\n",
        "!/content/micromamba/envs/sovits/bin/svc pre-hubert -fm crepe"
      ]
    },
    {
      "cell_type": "code",
      "execution_count": null,
      "metadata": {
        "id": "sH5MwXcP-UM7"
      },
      "outputs": [],
      "source": [
        "#@title Train\n",
        "# %load_ext tensorboard\n",
        "# %tensorboard --logdir drive/MyDrive/so-vits-svc-fork/logs/44k\n",
        "!/content/micromamba/envs/sovits/bin/svc train --model-path /content/drive/MyDrive/so-vits-svc-fork2/logs/44k"
      ]
    }
  ],
  "metadata": {
    "accelerator": "GPU",
    "colab": {
      "gpuType": "T4",
      "provenance": []
    },
    "kernelspec": {
      "display_name": "Python 3",
      "name": "python3"
    },
    "language_info": {
      "name": "python"
    }
  },
  "nbformat": 4,
  "nbformat_minor": 0
}
